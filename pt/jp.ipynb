{
 "cells": [
  {
   "cell_type": "code",
   "execution_count": 2,
   "metadata": {},
   "outputs": [
    {
     "name": "stdout",
     "output_type": "stream",
     "text": [
      "2 2\n"
     ]
    }
   ],
   "source": [
    "n , m = [int(s) for s in input().split()]\n",
    "a = [[int(j) for j in input().split()] for i in range(n)]\n",
    "max = a[0][0]\n",
    "x , y = 0, 0\n",
    "for i in range(n):\n",
    "    for j in range(m):\n",
    "        if a[i][j] > max:\n",
    "            max = a[i][j]\n",
    "            x, y = i, j\n",
    "print(x , y)"
   ]
  }
 ],
 "metadata": {
  "kernelspec": {
   "display_name": "Python 3",
   "language": "python",
   "name": "python3"
  },
  "language_info": {
   "codemirror_mode": {
    "name": "ipython",
    "version": 3
   },
   "file_extension": ".py",
   "mimetype": "text/x-python",
   "name": "python",
   "nbconvert_exporter": "python",
   "pygments_lexer": "ipython3",
   "version": "3.11.1"
  },
  "orig_nbformat": 4,
  "vscode": {
   "interpreter": {
    "hash": "6e90304edc34ad717a4d1b57178115bd228ff2886e682c182fe4f8898be76b53"
   }
  }
 },
 "nbformat": 4,
 "nbformat_minor": 2
}
